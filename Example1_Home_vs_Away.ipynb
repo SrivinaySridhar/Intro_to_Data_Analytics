{
  "cells": [
    {
      "cell_type": "markdown",
      "metadata": {
        "id": "view-in-github",
        "colab_type": "text"
      },
      "source": [
        "<a href=\"https://colab.research.google.com/github/SrivinaySridhar/Intro_to_Data_Analytics/blob/main/Example1_Home_vs_Away.ipynb\" target=\"_parent\"><img src=\"https://colab.research.google.com/assets/colab-badge.svg\" alt=\"Open In Colab\"/></a>"
      ]
    },
    {
      "cell_type": "markdown",
      "metadata": {
        "id": "6nok3PbdgHsG"
      },
      "source": [
        "### Data Extraction & Transformation\n",
        "\n",
        "Parsing raw StatsBomb data and storing it in a Pandas DataFrame\n",
        "\n",
        "---"
      ]
    },
    {
      "cell_type": "code",
      "execution_count": null,
      "metadata": {
        "id": "aeGQnlgqgHsS"
      },
      "outputs": [],
      "source": [
        "import requests\n",
        "import pandas as pd"
      ]
    },
    {
      "cell_type": "markdown",
      "metadata": {
        "id": "nVcotuIegHsW"
      },
      "source": [
        "- `requests` is a great library for executing HTTP requests\n",
        "- `pandas` is a data analysis and manipulation package\n",
        "\n",
        "---"
      ]
    },
    {
      "cell_type": "code",
      "execution_count": null,
      "metadata": {
        "id": "zjcq_7sxgHsY"
      },
      "outputs": [],
      "source": [
        "base_url = \"https://raw.githubusercontent.com/statsbomb/open-data/master/data/\"\n",
        "comp_url = base_url + \"matches/{}/{}.json\""
      ]
    },
    {
      "cell_type": "markdown",
      "metadata": {
        "id": "6Ct8hYohgHsa"
      },
      "source": [
        "These URLs are the locations where the raw StatsBomb data is. The `{}` in the URLs are dynamically replaced with IDs with `.format()`\n",
        "\n",
        "___"
      ]
    },
    {
      "cell_type": "code",
      "execution_count": null,
      "metadata": {
        "id": "bfb42U5DgHsb"
      },
      "outputs": [],
      "source": [
        "def parse_data(competition_id, season_id):\n",
        "    matches = requests.get(url=comp_url.format(competition_id, season_id)).json()\n",
        "    return pd.DataFrame(matches)"
      ]
    },
    {
      "cell_type": "markdown",
      "metadata": {
        "id": "iaXuU86mgHsd"
      },
      "source": [
        "The `parse_data` function handles the full Extracting process.\n",
        "\n",
        "The sequence of events is this:\n",
        "1. The list of matches of the given competition id and season id is loaded into the `matches` list.\n",
        "2. Return a Pandas DataFrame from the `matches` list.\n",
        "\n",
        "---"
      ]
    },
    {
      "cell_type": "code",
      "execution_count": null,
      "metadata": {
        "id": "nwnA60uYgHsg"
      },
      "outputs": [],
      "source": [
        "competition_id = 2\n",
        "season_id = 44"
      ]
    },
    {
      "cell_type": "markdown",
      "metadata": {
        "id": "ifmNIANkgHsh"
      },
      "source": [
        "Setting the competition id and season id:\n",
        "- `competition_id = 2` - StatsBomb's Competition ID for the Premier League\n",
        "- `season_id = 44` - StatsBomb's Season ID for the 2004 Season\n",
        "\n",
        "---"
      ]
    },
    {
      "cell_type": "code",
      "execution_count": null,
      "metadata": {
        "id": "nLFNwxzFgHsj"
      },
      "outputs": [],
      "source": [
        "df = parse_data(competition_id, season_id)"
      ]
    },
    {
      "cell_type": "markdown",
      "source": [
        "Creating the DataFrame using the ```parse_data()``` with the competition_id and season_id.\n",
        "\n",
        "---\n",
        "\n"
      ],
      "metadata": {
        "id": "oL3vExS6My9M"
      }
    },
    {
      "cell_type": "code",
      "execution_count": null,
      "metadata": {
        "id": "bvvL-GEzgHsn",
        "outputId": "c6667c4e-3cbe-474d-9cdf-4aaeeb2f242b",
        "colab": {
          "base_uri": "https://localhost:8080/",
          "height": 687
        }
      },
      "outputs": [
        {
          "output_type": "execute_result",
          "data": {
            "text/plain": [
              "   match_id  match_date      kick_off  \\\n",
              "0   3749052  2004-02-07  16:00:00.000   \n",
              "1   3749522  2003-12-26  13:00:00.000   \n",
              "2   3749246  2004-03-28  17:05:00.000   \n",
              "3   3749257  2004-05-15  16:00:00.000   \n",
              "4   3749642  2004-02-28  16:00:00.000   \n",
              "\n",
              "                                         competition  \\\n",
              "0  {'competition_id': 2, 'country_name': 'England...   \n",
              "1  {'competition_id': 2, 'country_name': 'England...   \n",
              "2  {'competition_id': 2, 'country_name': 'England...   \n",
              "3  {'competition_id': 2, 'country_name': 'England...   \n",
              "4  {'competition_id': 2, 'country_name': 'England...   \n",
              "\n",
              "                                          season  \\\n",
              "0  {'season_id': 44, 'season_name': '2003/2004'}   \n",
              "1  {'season_id': 44, 'season_name': '2003/2004'}   \n",
              "2  {'season_id': 44, 'season_name': '2003/2004'}   \n",
              "3  {'season_id': 44, 'season_name': '2003/2004'}   \n",
              "4  {'season_id': 44, 'season_name': '2003/2004'}   \n",
              "\n",
              "                                           home_team  \\\n",
              "0  {'home_team_id': 46, 'home_team_name': 'Wolver...   \n",
              "1  {'home_team_id': 1, 'home_team_name': 'Arsenal...   \n",
              "2  {'home_team_id': 1, 'home_team_name': 'Arsenal...   \n",
              "3  {'home_team_id': 1, 'home_team_name': 'Arsenal...   \n",
              "4  {'home_team_id': 1, 'home_team_name': 'Arsenal...   \n",
              "\n",
              "                                           away_team  home_score  away_score  \\\n",
              "0  {'away_team_id': 1, 'away_team_name': 'Arsenal...           1           3   \n",
              "1  {'away_team_id': 46, 'away_team_name': 'Wolver...           3           0   \n",
              "2  {'away_team_id': 39, 'away_team_name': 'Manche...           1           1   \n",
              "3  {'away_team_id': 22, 'away_team_name': 'Leices...           2           1   \n",
              "4  {'away_team_id': 75, 'away_team_name': 'Charlt...           2           1   \n",
              "\n",
              "  match_status match_status_360                last_updated  \\\n",
              "0    available        scheduled            2020-07-29T05:00   \n",
              "1    available        scheduled            2020-07-29T05:00   \n",
              "2    available        scheduled            2020-07-29T05:00   \n",
              "3    available        scheduled  2020-08-30T08:12:14.579037   \n",
              "4    available        scheduled            2020-07-29T05:00   \n",
              "\n",
              "          last_updated_360                                           metadata  \\\n",
              "0  2021-06-13T16:17:31.694  {'data_version': '1.1.0', 'shot_fidelity_versi...   \n",
              "1  2021-06-13T16:17:31.694  {'data_version': '1.1.0', 'shot_fidelity_versi...   \n",
              "2  2021-06-13T16:17:31.694  {'data_version': '1.1.0', 'shot_fidelity_versi...   \n",
              "3  2021-06-13T16:17:31.694  {'data_version': '1.1.0', 'shot_fidelity_versi...   \n",
              "4  2021-06-13T16:17:31.694  {'data_version': '1.1.0', 'shot_fidelity_versi...   \n",
              "\n",
              "   match_week                    competition_stage  \\\n",
              "0           2  {'id': 1, 'name': 'Regular Season'}   \n",
              "1          18  {'id': 1, 'name': 'Regular Season'}   \n",
              "2          30  {'id': 1, 'name': 'Regular Season'}   \n",
              "3          38  {'id': 1, 'name': 'Regular Season'}   \n",
              "4          27  {'id': 1, 'name': 'Regular Season'}   \n",
              "\n",
              "                                             stadium  \n",
              "0  {'id': 217, 'name': 'Molineux Stadium', 'count...  \n",
              "1  {'id': 1000243, 'name': 'Highbury Stadium', 'c...  \n",
              "2  {'id': 1000243, 'name': 'Highbury Stadium', 'c...  \n",
              "3  {'id': 1000243, 'name': 'Highbury Stadium', 'c...  \n",
              "4  {'id': 1000243, 'name': 'Highbury Stadium', 'c...  "
            ],
            "text/html": [
              "\n",
              "  <div id=\"df-145e1a2b-afa1-4035-b512-e8186ee497dc\">\n",
              "    <div class=\"colab-df-container\">\n",
              "      <div>\n",
              "<style scoped>\n",
              "    .dataframe tbody tr th:only-of-type {\n",
              "        vertical-align: middle;\n",
              "    }\n",
              "\n",
              "    .dataframe tbody tr th {\n",
              "        vertical-align: top;\n",
              "    }\n",
              "\n",
              "    .dataframe thead th {\n",
              "        text-align: right;\n",
              "    }\n",
              "</style>\n",
              "<table border=\"1\" class=\"dataframe\">\n",
              "  <thead>\n",
              "    <tr style=\"text-align: right;\">\n",
              "      <th></th>\n",
              "      <th>match_id</th>\n",
              "      <th>match_date</th>\n",
              "      <th>kick_off</th>\n",
              "      <th>competition</th>\n",
              "      <th>season</th>\n",
              "      <th>home_team</th>\n",
              "      <th>away_team</th>\n",
              "      <th>home_score</th>\n",
              "      <th>away_score</th>\n",
              "      <th>match_status</th>\n",
              "      <th>match_status_360</th>\n",
              "      <th>last_updated</th>\n",
              "      <th>last_updated_360</th>\n",
              "      <th>metadata</th>\n",
              "      <th>match_week</th>\n",
              "      <th>competition_stage</th>\n",
              "      <th>stadium</th>\n",
              "    </tr>\n",
              "  </thead>\n",
              "  <tbody>\n",
              "    <tr>\n",
              "      <th>0</th>\n",
              "      <td>3749052</td>\n",
              "      <td>2004-02-07</td>\n",
              "      <td>16:00:00.000</td>\n",
              "      <td>{'competition_id': 2, 'country_name': 'England...</td>\n",
              "      <td>{'season_id': 44, 'season_name': '2003/2004'}</td>\n",
              "      <td>{'home_team_id': 46, 'home_team_name': 'Wolver...</td>\n",
              "      <td>{'away_team_id': 1, 'away_team_name': 'Arsenal...</td>\n",
              "      <td>1</td>\n",
              "      <td>3</td>\n",
              "      <td>available</td>\n",
              "      <td>scheduled</td>\n",
              "      <td>2020-07-29T05:00</td>\n",
              "      <td>2021-06-13T16:17:31.694</td>\n",
              "      <td>{'data_version': '1.1.0', 'shot_fidelity_versi...</td>\n",
              "      <td>2</td>\n",
              "      <td>{'id': 1, 'name': 'Regular Season'}</td>\n",
              "      <td>{'id': 217, 'name': 'Molineux Stadium', 'count...</td>\n",
              "    </tr>\n",
              "    <tr>\n",
              "      <th>1</th>\n",
              "      <td>3749522</td>\n",
              "      <td>2003-12-26</td>\n",
              "      <td>13:00:00.000</td>\n",
              "      <td>{'competition_id': 2, 'country_name': 'England...</td>\n",
              "      <td>{'season_id': 44, 'season_name': '2003/2004'}</td>\n",
              "      <td>{'home_team_id': 1, 'home_team_name': 'Arsenal...</td>\n",
              "      <td>{'away_team_id': 46, 'away_team_name': 'Wolver...</td>\n",
              "      <td>3</td>\n",
              "      <td>0</td>\n",
              "      <td>available</td>\n",
              "      <td>scheduled</td>\n",
              "      <td>2020-07-29T05:00</td>\n",
              "      <td>2021-06-13T16:17:31.694</td>\n",
              "      <td>{'data_version': '1.1.0', 'shot_fidelity_versi...</td>\n",
              "      <td>18</td>\n",
              "      <td>{'id': 1, 'name': 'Regular Season'}</td>\n",
              "      <td>{'id': 1000243, 'name': 'Highbury Stadium', 'c...</td>\n",
              "    </tr>\n",
              "    <tr>\n",
              "      <th>2</th>\n",
              "      <td>3749246</td>\n",
              "      <td>2004-03-28</td>\n",
              "      <td>17:05:00.000</td>\n",
              "      <td>{'competition_id': 2, 'country_name': 'England...</td>\n",
              "      <td>{'season_id': 44, 'season_name': '2003/2004'}</td>\n",
              "      <td>{'home_team_id': 1, 'home_team_name': 'Arsenal...</td>\n",
              "      <td>{'away_team_id': 39, 'away_team_name': 'Manche...</td>\n",
              "      <td>1</td>\n",
              "      <td>1</td>\n",
              "      <td>available</td>\n",
              "      <td>scheduled</td>\n",
              "      <td>2020-07-29T05:00</td>\n",
              "      <td>2021-06-13T16:17:31.694</td>\n",
              "      <td>{'data_version': '1.1.0', 'shot_fidelity_versi...</td>\n",
              "      <td>30</td>\n",
              "      <td>{'id': 1, 'name': 'Regular Season'}</td>\n",
              "      <td>{'id': 1000243, 'name': 'Highbury Stadium', 'c...</td>\n",
              "    </tr>\n",
              "    <tr>\n",
              "      <th>3</th>\n",
              "      <td>3749257</td>\n",
              "      <td>2004-05-15</td>\n",
              "      <td>16:00:00.000</td>\n",
              "      <td>{'competition_id': 2, 'country_name': 'England...</td>\n",
              "      <td>{'season_id': 44, 'season_name': '2003/2004'}</td>\n",
              "      <td>{'home_team_id': 1, 'home_team_name': 'Arsenal...</td>\n",
              "      <td>{'away_team_id': 22, 'away_team_name': 'Leices...</td>\n",
              "      <td>2</td>\n",
              "      <td>1</td>\n",
              "      <td>available</td>\n",
              "      <td>scheduled</td>\n",
              "      <td>2020-08-30T08:12:14.579037</td>\n",
              "      <td>2021-06-13T16:17:31.694</td>\n",
              "      <td>{'data_version': '1.1.0', 'shot_fidelity_versi...</td>\n",
              "      <td>38</td>\n",
              "      <td>{'id': 1, 'name': 'Regular Season'}</td>\n",
              "      <td>{'id': 1000243, 'name': 'Highbury Stadium', 'c...</td>\n",
              "    </tr>\n",
              "    <tr>\n",
              "      <th>4</th>\n",
              "      <td>3749642</td>\n",
              "      <td>2004-02-28</td>\n",
              "      <td>16:00:00.000</td>\n",
              "      <td>{'competition_id': 2, 'country_name': 'England...</td>\n",
              "      <td>{'season_id': 44, 'season_name': '2003/2004'}</td>\n",
              "      <td>{'home_team_id': 1, 'home_team_name': 'Arsenal...</td>\n",
              "      <td>{'away_team_id': 75, 'away_team_name': 'Charlt...</td>\n",
              "      <td>2</td>\n",
              "      <td>1</td>\n",
              "      <td>available</td>\n",
              "      <td>scheduled</td>\n",
              "      <td>2020-07-29T05:00</td>\n",
              "      <td>2021-06-13T16:17:31.694</td>\n",
              "      <td>{'data_version': '1.1.0', 'shot_fidelity_versi...</td>\n",
              "      <td>27</td>\n",
              "      <td>{'id': 1, 'name': 'Regular Season'}</td>\n",
              "      <td>{'id': 1000243, 'name': 'Highbury Stadium', 'c...</td>\n",
              "    </tr>\n",
              "  </tbody>\n",
              "</table>\n",
              "</div>\n",
              "      <button class=\"colab-df-convert\" onclick=\"convertToInteractive('df-145e1a2b-afa1-4035-b512-e8186ee497dc')\"\n",
              "              title=\"Convert this dataframe to an interactive table.\"\n",
              "              style=\"display:none;\">\n",
              "        \n",
              "  <svg xmlns=\"http://www.w3.org/2000/svg\" height=\"24px\"viewBox=\"0 0 24 24\"\n",
              "       width=\"24px\">\n",
              "    <path d=\"M0 0h24v24H0V0z\" fill=\"none\"/>\n",
              "    <path d=\"M18.56 5.44l.94 2.06.94-2.06 2.06-.94-2.06-.94-.94-2.06-.94 2.06-2.06.94zm-11 1L8.5 8.5l.94-2.06 2.06-.94-2.06-.94L8.5 2.5l-.94 2.06-2.06.94zm10 10l.94 2.06.94-2.06 2.06-.94-2.06-.94-.94-2.06-.94 2.06-2.06.94z\"/><path d=\"M17.41 7.96l-1.37-1.37c-.4-.4-.92-.59-1.43-.59-.52 0-1.04.2-1.43.59L10.3 9.45l-7.72 7.72c-.78.78-.78 2.05 0 2.83L4 21.41c.39.39.9.59 1.41.59.51 0 1.02-.2 1.41-.59l7.78-7.78 2.81-2.81c.8-.78.8-2.07 0-2.86zM5.41 20L4 18.59l7.72-7.72 1.47 1.35L5.41 20z\"/>\n",
              "  </svg>\n",
              "      </button>\n",
              "      \n",
              "  <style>\n",
              "    .colab-df-container {\n",
              "      display:flex;\n",
              "      flex-wrap:wrap;\n",
              "      gap: 12px;\n",
              "    }\n",
              "\n",
              "    .colab-df-convert {\n",
              "      background-color: #E8F0FE;\n",
              "      border: none;\n",
              "      border-radius: 50%;\n",
              "      cursor: pointer;\n",
              "      display: none;\n",
              "      fill: #1967D2;\n",
              "      height: 32px;\n",
              "      padding: 0 0 0 0;\n",
              "      width: 32px;\n",
              "    }\n",
              "\n",
              "    .colab-df-convert:hover {\n",
              "      background-color: #E2EBFA;\n",
              "      box-shadow: 0px 1px 2px rgba(60, 64, 67, 0.3), 0px 1px 3px 1px rgba(60, 64, 67, 0.15);\n",
              "      fill: #174EA6;\n",
              "    }\n",
              "\n",
              "    [theme=dark] .colab-df-convert {\n",
              "      background-color: #3B4455;\n",
              "      fill: #D2E3FC;\n",
              "    }\n",
              "\n",
              "    [theme=dark] .colab-df-convert:hover {\n",
              "      background-color: #434B5C;\n",
              "      box-shadow: 0px 1px 3px 1px rgba(0, 0, 0, 0.15);\n",
              "      filter: drop-shadow(0px 1px 2px rgba(0, 0, 0, 0.3));\n",
              "      fill: #FFFFFF;\n",
              "    }\n",
              "  </style>\n",
              "\n",
              "      <script>\n",
              "        const buttonEl =\n",
              "          document.querySelector('#df-145e1a2b-afa1-4035-b512-e8186ee497dc button.colab-df-convert');\n",
              "        buttonEl.style.display =\n",
              "          google.colab.kernel.accessAllowed ? 'block' : 'none';\n",
              "\n",
              "        async function convertToInteractive(key) {\n",
              "          const element = document.querySelector('#df-145e1a2b-afa1-4035-b512-e8186ee497dc');\n",
              "          const dataTable =\n",
              "            await google.colab.kernel.invokeFunction('convertToInteractive',\n",
              "                                                     [key], {});\n",
              "          if (!dataTable) return;\n",
              "\n",
              "          const docLinkHtml = 'Like what you see? Visit the ' +\n",
              "            '<a target=\"_blank\" href=https://colab.research.google.com/notebooks/data_table.ipynb>data table notebook</a>'\n",
              "            + ' to learn more about interactive tables.';\n",
              "          element.innerHTML = '';\n",
              "          dataTable['output_type'] = 'display_data';\n",
              "          await google.colab.output.renderOutput(dataTable, element);\n",
              "          const docLink = document.createElement('div');\n",
              "          docLink.innerHTML = docLinkHtml;\n",
              "          element.appendChild(docLink);\n",
              "        }\n",
              "      </script>\n",
              "    </div>\n",
              "  </div>\n",
              "  "
            ]
          },
          "metadata": {},
          "execution_count": 6
        }
      ],
      "source": [
        "df.head()"
      ]
    },
    {
      "cell_type": "markdown",
      "metadata": {
        "id": "Xo5tWY_XgHsp"
      },
      "source": [
        "The `.head()` method on a DataFrame object shows you the first 5 records in the DataFrame.\n",
        "\n",
        "---"
      ]
    },
    {
      "cell_type": "code",
      "source": [
        "df.info()"
      ],
      "metadata": {
        "colab": {
          "base_uri": "https://localhost:8080/"
        },
        "id": "RVCVsdXfoAJj",
        "outputId": "cff524a4-82e5-421e-a055-bea304548e07"
      },
      "execution_count": null,
      "outputs": [
        {
          "output_type": "stream",
          "name": "stdout",
          "text": [
            "<class 'pandas.core.frame.DataFrame'>\n",
            "RangeIndex: 33 entries, 0 to 32\n",
            "Data columns (total 17 columns):\n",
            " #   Column             Non-Null Count  Dtype \n",
            "---  ------             --------------  ----- \n",
            " 0   match_id           33 non-null     int64 \n",
            " 1   match_date         33 non-null     object\n",
            " 2   kick_off           33 non-null     object\n",
            " 3   competition        33 non-null     object\n",
            " 4   season             33 non-null     object\n",
            " 5   home_team          33 non-null     object\n",
            " 6   away_team          33 non-null     object\n",
            " 7   home_score         33 non-null     int64 \n",
            " 8   away_score         33 non-null     int64 \n",
            " 9   match_status       33 non-null     object\n",
            " 10  match_status_360   33 non-null     object\n",
            " 11  last_updated       33 non-null     object\n",
            " 12  last_updated_360   33 non-null     object\n",
            " 13  metadata           33 non-null     object\n",
            " 14  match_week         33 non-null     int64 \n",
            " 15  competition_stage  33 non-null     object\n",
            " 16  stadium            33 non-null     object\n",
            "dtypes: int64(4), object(13)\n",
            "memory usage: 4.5+ KB\n"
          ]
        }
      ]
    },
    {
      "cell_type": "markdown",
      "source": [
        "We can see that there are quite some columns and useful data that we can perform analysis with.\n",
        "\n",
        "Here is where we should think about the question we want to answer with the data.\n",
        "\n",
        "---"
      ],
      "metadata": {
        "id": "rqZhEDR-oySO"
      }
    },
    {
      "cell_type": "markdown",
      "source": [
        "#### Let us try to answer the following question as an example:\n",
        "\n",
        "Did Arsenal perform better at Home or Away during their invincible 2003/04 season?\n",
        "\n",
        "The first step is to filter the columns with the required data and drop the unwanted columns with respect to the question posed."
      ],
      "metadata": {
        "id": "ZyYbLK7Wp9SZ"
      }
    },
    {
      "cell_type": "code",
      "source": [
        "df_clean = df.drop([\"kick_off\", \"competition\", \"season\", \"match_status\", \"match_status_360\", \"last_updated\", \"last_updated_360\", \"competition_stage\", \"metadata\", \"match_week\", \"stadium\"], axis = 1)"
      ],
      "metadata": {
        "id": "AU9oHq6Pp0IE"
      },
      "execution_count": null,
      "outputs": []
    },
    {
      "cell_type": "code",
      "source": [
        "df_clean.head(5)"
      ],
      "metadata": {
        "id": "IT8g8Clvrdna",
        "colab": {
          "base_uri": "https://localhost:8080/",
          "height": 206
        },
        "outputId": "048751e7-f1e7-4967-aa6b-4087c5dc21a3"
      },
      "execution_count": null,
      "outputs": [
        {
          "output_type": "execute_result",
          "data": {
            "text/plain": [
              "   match_id  match_date                                          home_team  \\\n",
              "0   3749052  2004-02-07  {'home_team_id': 46, 'home_team_name': 'Wolver...   \n",
              "1   3749522  2003-12-26  {'home_team_id': 1, 'home_team_name': 'Arsenal...   \n",
              "2   3749246  2004-03-28  {'home_team_id': 1, 'home_team_name': 'Arsenal...   \n",
              "3   3749257  2004-05-15  {'home_team_id': 1, 'home_team_name': 'Arsenal...   \n",
              "4   3749642  2004-02-28  {'home_team_id': 1, 'home_team_name': 'Arsenal...   \n",
              "\n",
              "                                           away_team  home_score  away_score  \n",
              "0  {'away_team_id': 1, 'away_team_name': 'Arsenal...           1           3  \n",
              "1  {'away_team_id': 46, 'away_team_name': 'Wolver...           3           0  \n",
              "2  {'away_team_id': 39, 'away_team_name': 'Manche...           1           1  \n",
              "3  {'away_team_id': 22, 'away_team_name': 'Leices...           2           1  \n",
              "4  {'away_team_id': 75, 'away_team_name': 'Charlt...           2           1  "
            ],
            "text/html": [
              "\n",
              "  <div id=\"df-fcdf0863-6ea5-4a0d-abd7-ec779cd26858\">\n",
              "    <div class=\"colab-df-container\">\n",
              "      <div>\n",
              "<style scoped>\n",
              "    .dataframe tbody tr th:only-of-type {\n",
              "        vertical-align: middle;\n",
              "    }\n",
              "\n",
              "    .dataframe tbody tr th {\n",
              "        vertical-align: top;\n",
              "    }\n",
              "\n",
              "    .dataframe thead th {\n",
              "        text-align: right;\n",
              "    }\n",
              "</style>\n",
              "<table border=\"1\" class=\"dataframe\">\n",
              "  <thead>\n",
              "    <tr style=\"text-align: right;\">\n",
              "      <th></th>\n",
              "      <th>match_id</th>\n",
              "      <th>match_date</th>\n",
              "      <th>home_team</th>\n",
              "      <th>away_team</th>\n",
              "      <th>home_score</th>\n",
              "      <th>away_score</th>\n",
              "    </tr>\n",
              "  </thead>\n",
              "  <tbody>\n",
              "    <tr>\n",
              "      <th>0</th>\n",
              "      <td>3749052</td>\n",
              "      <td>2004-02-07</td>\n",
              "      <td>{'home_team_id': 46, 'home_team_name': 'Wolver...</td>\n",
              "      <td>{'away_team_id': 1, 'away_team_name': 'Arsenal...</td>\n",
              "      <td>1</td>\n",
              "      <td>3</td>\n",
              "    </tr>\n",
              "    <tr>\n",
              "      <th>1</th>\n",
              "      <td>3749522</td>\n",
              "      <td>2003-12-26</td>\n",
              "      <td>{'home_team_id': 1, 'home_team_name': 'Arsenal...</td>\n",
              "      <td>{'away_team_id': 46, 'away_team_name': 'Wolver...</td>\n",
              "      <td>3</td>\n",
              "      <td>0</td>\n",
              "    </tr>\n",
              "    <tr>\n",
              "      <th>2</th>\n",
              "      <td>3749246</td>\n",
              "      <td>2004-03-28</td>\n",
              "      <td>{'home_team_id': 1, 'home_team_name': 'Arsenal...</td>\n",
              "      <td>{'away_team_id': 39, 'away_team_name': 'Manche...</td>\n",
              "      <td>1</td>\n",
              "      <td>1</td>\n",
              "    </tr>\n",
              "    <tr>\n",
              "      <th>3</th>\n",
              "      <td>3749257</td>\n",
              "      <td>2004-05-15</td>\n",
              "      <td>{'home_team_id': 1, 'home_team_name': 'Arsenal...</td>\n",
              "      <td>{'away_team_id': 22, 'away_team_name': 'Leices...</td>\n",
              "      <td>2</td>\n",
              "      <td>1</td>\n",
              "    </tr>\n",
              "    <tr>\n",
              "      <th>4</th>\n",
              "      <td>3749642</td>\n",
              "      <td>2004-02-28</td>\n",
              "      <td>{'home_team_id': 1, 'home_team_name': 'Arsenal...</td>\n",
              "      <td>{'away_team_id': 75, 'away_team_name': 'Charlt...</td>\n",
              "      <td>2</td>\n",
              "      <td>1</td>\n",
              "    </tr>\n",
              "  </tbody>\n",
              "</table>\n",
              "</div>\n",
              "      <button class=\"colab-df-convert\" onclick=\"convertToInteractive('df-fcdf0863-6ea5-4a0d-abd7-ec779cd26858')\"\n",
              "              title=\"Convert this dataframe to an interactive table.\"\n",
              "              style=\"display:none;\">\n",
              "        \n",
              "  <svg xmlns=\"http://www.w3.org/2000/svg\" height=\"24px\"viewBox=\"0 0 24 24\"\n",
              "       width=\"24px\">\n",
              "    <path d=\"M0 0h24v24H0V0z\" fill=\"none\"/>\n",
              "    <path d=\"M18.56 5.44l.94 2.06.94-2.06 2.06-.94-2.06-.94-.94-2.06-.94 2.06-2.06.94zm-11 1L8.5 8.5l.94-2.06 2.06-.94-2.06-.94L8.5 2.5l-.94 2.06-2.06.94zm10 10l.94 2.06.94-2.06 2.06-.94-2.06-.94-.94-2.06-.94 2.06-2.06.94z\"/><path d=\"M17.41 7.96l-1.37-1.37c-.4-.4-.92-.59-1.43-.59-.52 0-1.04.2-1.43.59L10.3 9.45l-7.72 7.72c-.78.78-.78 2.05 0 2.83L4 21.41c.39.39.9.59 1.41.59.51 0 1.02-.2 1.41-.59l7.78-7.78 2.81-2.81c.8-.78.8-2.07 0-2.86zM5.41 20L4 18.59l7.72-7.72 1.47 1.35L5.41 20z\"/>\n",
              "  </svg>\n",
              "      </button>\n",
              "      \n",
              "  <style>\n",
              "    .colab-df-container {\n",
              "      display:flex;\n",
              "      flex-wrap:wrap;\n",
              "      gap: 12px;\n",
              "    }\n",
              "\n",
              "    .colab-df-convert {\n",
              "      background-color: #E8F0FE;\n",
              "      border: none;\n",
              "      border-radius: 50%;\n",
              "      cursor: pointer;\n",
              "      display: none;\n",
              "      fill: #1967D2;\n",
              "      height: 32px;\n",
              "      padding: 0 0 0 0;\n",
              "      width: 32px;\n",
              "    }\n",
              "\n",
              "    .colab-df-convert:hover {\n",
              "      background-color: #E2EBFA;\n",
              "      box-shadow: 0px 1px 2px rgba(60, 64, 67, 0.3), 0px 1px 3px 1px rgba(60, 64, 67, 0.15);\n",
              "      fill: #174EA6;\n",
              "    }\n",
              "\n",
              "    [theme=dark] .colab-df-convert {\n",
              "      background-color: #3B4455;\n",
              "      fill: #D2E3FC;\n",
              "    }\n",
              "\n",
              "    [theme=dark] .colab-df-convert:hover {\n",
              "      background-color: #434B5C;\n",
              "      box-shadow: 0px 1px 3px 1px rgba(0, 0, 0, 0.15);\n",
              "      filter: drop-shadow(0px 1px 2px rgba(0, 0, 0, 0.3));\n",
              "      fill: #FFFFFF;\n",
              "    }\n",
              "  </style>\n",
              "\n",
              "      <script>\n",
              "        const buttonEl =\n",
              "          document.querySelector('#df-fcdf0863-6ea5-4a0d-abd7-ec779cd26858 button.colab-df-convert');\n",
              "        buttonEl.style.display =\n",
              "          google.colab.kernel.accessAllowed ? 'block' : 'none';\n",
              "\n",
              "        async function convertToInteractive(key) {\n",
              "          const element = document.querySelector('#df-fcdf0863-6ea5-4a0d-abd7-ec779cd26858');\n",
              "          const dataTable =\n",
              "            await google.colab.kernel.invokeFunction('convertToInteractive',\n",
              "                                                     [key], {});\n",
              "          if (!dataTable) return;\n",
              "\n",
              "          const docLinkHtml = 'Like what you see? Visit the ' +\n",
              "            '<a target=\"_blank\" href=https://colab.research.google.com/notebooks/data_table.ipynb>data table notebook</a>'\n",
              "            + ' to learn more about interactive tables.';\n",
              "          element.innerHTML = '';\n",
              "          dataTable['output_type'] = 'display_data';\n",
              "          await google.colab.output.renderOutput(dataTable, element);\n",
              "          const docLink = document.createElement('div');\n",
              "          docLink.innerHTML = docLinkHtml;\n",
              "          element.appendChild(docLink);\n",
              "        }\n",
              "      </script>\n",
              "    </div>\n",
              "  </div>\n",
              "  "
            ]
          },
          "metadata": {},
          "execution_count": 9
        }
      ]
    },
    {
      "cell_type": "code",
      "source": [
        "df_clean.info()"
      ],
      "metadata": {
        "id": "BI93oXDwvuJl",
        "colab": {
          "base_uri": "https://localhost:8080/"
        },
        "outputId": "08a7f272-8b70-4e89-adb2-50f7baf395f2"
      },
      "execution_count": null,
      "outputs": [
        {
          "output_type": "stream",
          "name": "stdout",
          "text": [
            "<class 'pandas.core.frame.DataFrame'>\n",
            "RangeIndex: 33 entries, 0 to 32\n",
            "Data columns (total 6 columns):\n",
            " #   Column      Non-Null Count  Dtype \n",
            "---  ------      --------------  ----- \n",
            " 0   match_id    33 non-null     int64 \n",
            " 1   match_date  33 non-null     object\n",
            " 2   home_team   33 non-null     object\n",
            " 3   away_team   33 non-null     object\n",
            " 4   home_score  33 non-null     int64 \n",
            " 5   away_score  33 non-null     int64 \n",
            "dtypes: int64(3), object(3)\n",
            "memory usage: 1.7+ KB\n"
          ]
        }
      ]
    },
    {
      "cell_type": "markdown",
      "source": [
        "Let us answer the question using two metrics:\n",
        "\n",
        "\n",
        "1.   Win, Loss & Draw percentages\n",
        "2.   Goal Difference\n",
        "\n",
        "We will create two simple functions to calculate this and populate the columns of the Dataframe respectively."
      ],
      "metadata": {
        "id": "INXsWwRevL2n"
      }
    },
    {
      "cell_type": "code",
      "source": [
        "def get_winner(df_row: list) -> str:\n",
        "    if df_row[\"home_score\"] > df_row[\"away_score\"]:\n",
        "        return df_row[\"home_team\"][\"home_team_name\"]\n",
        "    elif df_row[\"home_score\"] < df_row[\"away_score\"]:\n",
        "        return df_row[\"away_team\"][\"away_team_name\"]\n",
        "    else:\n",
        "        return \"Draw\""
      ],
      "metadata": {
        "id": "2kkW8XJErmyU"
      },
      "execution_count": null,
      "outputs": []
    },
    {
      "cell_type": "markdown",
      "source": [
        "The ```get_winner()``` function returns the outcome of the match. The possible 3 outcomes are:\n",
        "1. Team Name 1\n",
        "2. Team Name 2\n",
        "3. Draw\n",
        "\n",
        "---"
      ],
      "metadata": {
        "id": "cMgQ5MQyx5FA"
      }
    },
    {
      "cell_type": "code",
      "source": [
        "def is_home(df_row: list) -> bool:\n",
        "    TEAM_NAME = \"Arsenal\"\n",
        "    if df_row[\"home_team\"][\"home_team_name\"] == TEAM_NAME:\n",
        "        return True\n",
        "    return False"
      ],
      "metadata": {
        "id": "QYddVN9ux4u9"
      },
      "execution_count": null,
      "outputs": []
    },
    {
      "cell_type": "markdown",
      "source": [
        "The `is_home()` function returns whether \"Arsenal\" is the home or away team. The possible 2 outcomes are:\n",
        "1. True\n",
        "2. False\n",
        "\n",
        "---"
      ],
      "metadata": {
        "id": "jCXDFPMyc-9D"
      }
    },
    {
      "cell_type": "code",
      "source": [
        "def goal_difference(df_row: list) -> int:\n",
        "    if is_home(df_row):\n",
        "        return df_row[\"home_score\"] - df_row[\"away_score\"]\n",
        "    else:\n",
        "        return df_row[\"away_score\"] - df_row[\"home_score\"]"
      ],
      "metadata": {
        "id": "dzh32VjXchql"
      },
      "execution_count": null,
      "outputs": []
    },
    {
      "cell_type": "markdown",
      "source": [
        "The ```goal_difference()``` function returns the goal_differnce of the match with respect to team \"Arsenal\". The outcome is an ```int``` type\n",
        "\n",
        "---"
      ],
      "metadata": {
        "id": "JhoPZ6eLzP_G"
      }
    },
    {
      "cell_type": "code",
      "source": [
        "df_clean[\"winner\"] = df.apply(get_winner, axis=1)"
      ],
      "metadata": {
        "id": "gieMlArMwNLY"
      },
      "execution_count": null,
      "outputs": []
    },
    {
      "cell_type": "code",
      "source": [
        "df_clean[\"goal_difference\"] = df.apply(goal_difference, axis = 1)"
      ],
      "metadata": {
        "id": "nRsmL_qWzTD3"
      },
      "execution_count": null,
      "outputs": []
    },
    {
      "cell_type": "code",
      "source": [
        "df_clean[\"is_home\"] = df.apply(is_home, axis = 1)"
      ],
      "metadata": {
        "id": "Dqd1ktgw0YIS"
      },
      "execution_count": null,
      "outputs": []
    },
    {
      "cell_type": "markdown",
      "source": [
        "```df_clean['column_name'] = ...``` is a way to add a column to the specified Dataframe object of the Pandas library.\n",
        "\n",
        "The ```.apply()``` method part of the Pandas Dataframe built-in methods applies the given function on each of the rows. The parameter ```axis = 1``` is to specify that the function has to be applied column wise.\n",
        "\n",
        "---\n"
      ],
      "metadata": {
        "id": "lcDaKhUedS_r"
      }
    },
    {
      "cell_type": "code",
      "source": [
        "df_clean.info()"
      ],
      "metadata": {
        "colab": {
          "base_uri": "https://localhost:8080/"
        },
        "id": "EogK-T9Ywhah",
        "outputId": "055e8dd9-2a1e-44d2-b061-6648aeff24ef"
      },
      "execution_count": null,
      "outputs": [
        {
          "output_type": "stream",
          "name": "stdout",
          "text": [
            "<class 'pandas.core.frame.DataFrame'>\n",
            "RangeIndex: 33 entries, 0 to 32\n",
            "Data columns (total 9 columns):\n",
            " #   Column           Non-Null Count  Dtype \n",
            "---  ------           --------------  ----- \n",
            " 0   match_id         33 non-null     int64 \n",
            " 1   match_date       33 non-null     object\n",
            " 2   home_team        33 non-null     object\n",
            " 3   away_team        33 non-null     object\n",
            " 4   home_score       33 non-null     int64 \n",
            " 5   away_score       33 non-null     int64 \n",
            " 6   winner           33 non-null     object\n",
            " 7   goal_difference  33 non-null     int64 \n",
            " 8   is_home          33 non-null     bool  \n",
            "dtypes: bool(1), int64(4), object(4)\n",
            "memory usage: 2.2+ KB\n"
          ]
        }
      ]
    },
    {
      "cell_type": "markdown",
      "source": [
        "We can see that 3 additional columns have been added to the ```df_clean``` Dataframe object:\n",
        "1. winner -> ```object``` datatype\n",
        "2. goal_difference -> ```int``` datatype\n",
        "3. is_home -> ```bool``` datatype\n",
        "\n",
        "---"
      ],
      "metadata": {
        "id": "ABhNsrRXeH5N"
      }
    },
    {
      "cell_type": "code",
      "source": [
        "df_clean.head()"
      ],
      "metadata": {
        "colab": {
          "base_uri": "https://localhost:8080/",
          "height": 206
        },
        "id": "Y_nE8UwT9zxt",
        "outputId": "7628d667-4452-4ac2-916e-5f2460c9e7e5"
      },
      "execution_count": null,
      "outputs": [
        {
          "output_type": "execute_result",
          "data": {
            "text/plain": [
              "   match_id  match_date                                          home_team  \\\n",
              "0   3749052  2004-02-07  {'home_team_id': 46, 'home_team_name': 'Wolver...   \n",
              "1   3749522  2003-12-26  {'home_team_id': 1, 'home_team_name': 'Arsenal...   \n",
              "2   3749246  2004-03-28  {'home_team_id': 1, 'home_team_name': 'Arsenal...   \n",
              "3   3749257  2004-05-15  {'home_team_id': 1, 'home_team_name': 'Arsenal...   \n",
              "4   3749642  2004-02-28  {'home_team_id': 1, 'home_team_name': 'Arsenal...   \n",
              "\n",
              "                                           away_team  home_score  away_score  \\\n",
              "0  {'away_team_id': 1, 'away_team_name': 'Arsenal...           1           3   \n",
              "1  {'away_team_id': 46, 'away_team_name': 'Wolver...           3           0   \n",
              "2  {'away_team_id': 39, 'away_team_name': 'Manche...           1           1   \n",
              "3  {'away_team_id': 22, 'away_team_name': 'Leices...           2           1   \n",
              "4  {'away_team_id': 75, 'away_team_name': 'Charlt...           2           1   \n",
              "\n",
              "    winner  goal_difference  is_home  \n",
              "0  Arsenal                2    False  \n",
              "1  Arsenal                3     True  \n",
              "2     Draw                0     True  \n",
              "3  Arsenal                1     True  \n",
              "4  Arsenal                1     True  "
            ],
            "text/html": [
              "\n",
              "  <div id=\"df-fce47e7c-960a-450b-99eb-eb0c4d3f45f6\">\n",
              "    <div class=\"colab-df-container\">\n",
              "      <div>\n",
              "<style scoped>\n",
              "    .dataframe tbody tr th:only-of-type {\n",
              "        vertical-align: middle;\n",
              "    }\n",
              "\n",
              "    .dataframe tbody tr th {\n",
              "        vertical-align: top;\n",
              "    }\n",
              "\n",
              "    .dataframe thead th {\n",
              "        text-align: right;\n",
              "    }\n",
              "</style>\n",
              "<table border=\"1\" class=\"dataframe\">\n",
              "  <thead>\n",
              "    <tr style=\"text-align: right;\">\n",
              "      <th></th>\n",
              "      <th>match_id</th>\n",
              "      <th>match_date</th>\n",
              "      <th>home_team</th>\n",
              "      <th>away_team</th>\n",
              "      <th>home_score</th>\n",
              "      <th>away_score</th>\n",
              "      <th>winner</th>\n",
              "      <th>goal_difference</th>\n",
              "      <th>is_home</th>\n",
              "    </tr>\n",
              "  </thead>\n",
              "  <tbody>\n",
              "    <tr>\n",
              "      <th>0</th>\n",
              "      <td>3749052</td>\n",
              "      <td>2004-02-07</td>\n",
              "      <td>{'home_team_id': 46, 'home_team_name': 'Wolver...</td>\n",
              "      <td>{'away_team_id': 1, 'away_team_name': 'Arsenal...</td>\n",
              "      <td>1</td>\n",
              "      <td>3</td>\n",
              "      <td>Arsenal</td>\n",
              "      <td>2</td>\n",
              "      <td>False</td>\n",
              "    </tr>\n",
              "    <tr>\n",
              "      <th>1</th>\n",
              "      <td>3749522</td>\n",
              "      <td>2003-12-26</td>\n",
              "      <td>{'home_team_id': 1, 'home_team_name': 'Arsenal...</td>\n",
              "      <td>{'away_team_id': 46, 'away_team_name': 'Wolver...</td>\n",
              "      <td>3</td>\n",
              "      <td>0</td>\n",
              "      <td>Arsenal</td>\n",
              "      <td>3</td>\n",
              "      <td>True</td>\n",
              "    </tr>\n",
              "    <tr>\n",
              "      <th>2</th>\n",
              "      <td>3749246</td>\n",
              "      <td>2004-03-28</td>\n",
              "      <td>{'home_team_id': 1, 'home_team_name': 'Arsenal...</td>\n",
              "      <td>{'away_team_id': 39, 'away_team_name': 'Manche...</td>\n",
              "      <td>1</td>\n",
              "      <td>1</td>\n",
              "      <td>Draw</td>\n",
              "      <td>0</td>\n",
              "      <td>True</td>\n",
              "    </tr>\n",
              "    <tr>\n",
              "      <th>3</th>\n",
              "      <td>3749257</td>\n",
              "      <td>2004-05-15</td>\n",
              "      <td>{'home_team_id': 1, 'home_team_name': 'Arsenal...</td>\n",
              "      <td>{'away_team_id': 22, 'away_team_name': 'Leices...</td>\n",
              "      <td>2</td>\n",
              "      <td>1</td>\n",
              "      <td>Arsenal</td>\n",
              "      <td>1</td>\n",
              "      <td>True</td>\n",
              "    </tr>\n",
              "    <tr>\n",
              "      <th>4</th>\n",
              "      <td>3749642</td>\n",
              "      <td>2004-02-28</td>\n",
              "      <td>{'home_team_id': 1, 'home_team_name': 'Arsenal...</td>\n",
              "      <td>{'away_team_id': 75, 'away_team_name': 'Charlt...</td>\n",
              "      <td>2</td>\n",
              "      <td>1</td>\n",
              "      <td>Arsenal</td>\n",
              "      <td>1</td>\n",
              "      <td>True</td>\n",
              "    </tr>\n",
              "  </tbody>\n",
              "</table>\n",
              "</div>\n",
              "      <button class=\"colab-df-convert\" onclick=\"convertToInteractive('df-fce47e7c-960a-450b-99eb-eb0c4d3f45f6')\"\n",
              "              title=\"Convert this dataframe to an interactive table.\"\n",
              "              style=\"display:none;\">\n",
              "        \n",
              "  <svg xmlns=\"http://www.w3.org/2000/svg\" height=\"24px\"viewBox=\"0 0 24 24\"\n",
              "       width=\"24px\">\n",
              "    <path d=\"M0 0h24v24H0V0z\" fill=\"none\"/>\n",
              "    <path d=\"M18.56 5.44l.94 2.06.94-2.06 2.06-.94-2.06-.94-.94-2.06-.94 2.06-2.06.94zm-11 1L8.5 8.5l.94-2.06 2.06-.94-2.06-.94L8.5 2.5l-.94 2.06-2.06.94zm10 10l.94 2.06.94-2.06 2.06-.94-2.06-.94-.94-2.06-.94 2.06-2.06.94z\"/><path d=\"M17.41 7.96l-1.37-1.37c-.4-.4-.92-.59-1.43-.59-.52 0-1.04.2-1.43.59L10.3 9.45l-7.72 7.72c-.78.78-.78 2.05 0 2.83L4 21.41c.39.39.9.59 1.41.59.51 0 1.02-.2 1.41-.59l7.78-7.78 2.81-2.81c.8-.78.8-2.07 0-2.86zM5.41 20L4 18.59l7.72-7.72 1.47 1.35L5.41 20z\"/>\n",
              "  </svg>\n",
              "      </button>\n",
              "      \n",
              "  <style>\n",
              "    .colab-df-container {\n",
              "      display:flex;\n",
              "      flex-wrap:wrap;\n",
              "      gap: 12px;\n",
              "    }\n",
              "\n",
              "    .colab-df-convert {\n",
              "      background-color: #E8F0FE;\n",
              "      border: none;\n",
              "      border-radius: 50%;\n",
              "      cursor: pointer;\n",
              "      display: none;\n",
              "      fill: #1967D2;\n",
              "      height: 32px;\n",
              "      padding: 0 0 0 0;\n",
              "      width: 32px;\n",
              "    }\n",
              "\n",
              "    .colab-df-convert:hover {\n",
              "      background-color: #E2EBFA;\n",
              "      box-shadow: 0px 1px 2px rgba(60, 64, 67, 0.3), 0px 1px 3px 1px rgba(60, 64, 67, 0.15);\n",
              "      fill: #174EA6;\n",
              "    }\n",
              "\n",
              "    [theme=dark] .colab-df-convert {\n",
              "      background-color: #3B4455;\n",
              "      fill: #D2E3FC;\n",
              "    }\n",
              "\n",
              "    [theme=dark] .colab-df-convert:hover {\n",
              "      background-color: #434B5C;\n",
              "      box-shadow: 0px 1px 3px 1px rgba(0, 0, 0, 0.15);\n",
              "      filter: drop-shadow(0px 1px 2px rgba(0, 0, 0, 0.3));\n",
              "      fill: #FFFFFF;\n",
              "    }\n",
              "  </style>\n",
              "\n",
              "      <script>\n",
              "        const buttonEl =\n",
              "          document.querySelector('#df-fce47e7c-960a-450b-99eb-eb0c4d3f45f6 button.colab-df-convert');\n",
              "        buttonEl.style.display =\n",
              "          google.colab.kernel.accessAllowed ? 'block' : 'none';\n",
              "\n",
              "        async function convertToInteractive(key) {\n",
              "          const element = document.querySelector('#df-fce47e7c-960a-450b-99eb-eb0c4d3f45f6');\n",
              "          const dataTable =\n",
              "            await google.colab.kernel.invokeFunction('convertToInteractive',\n",
              "                                                     [key], {});\n",
              "          if (!dataTable) return;\n",
              "\n",
              "          const docLinkHtml = 'Like what you see? Visit the ' +\n",
              "            '<a target=\"_blank\" href=https://colab.research.google.com/notebooks/data_table.ipynb>data table notebook</a>'\n",
              "            + ' to learn more about interactive tables.';\n",
              "          element.innerHTML = '';\n",
              "          dataTable['output_type'] = 'display_data';\n",
              "          await google.colab.output.renderOutput(dataTable, element);\n",
              "          const docLink = document.createElement('div');\n",
              "          docLink.innerHTML = docLinkHtml;\n",
              "          element.appendChild(docLink);\n",
              "        }\n",
              "      </script>\n",
              "    </div>\n",
              "  </div>\n",
              "  "
            ]
          },
          "metadata": {},
          "execution_count": 18
        }
      ]
    },
    {
      "cell_type": "markdown",
      "source": [
        "We can infer the following from the above:\n",
        "- Four of the first five matches are Home games for Arsenal (from the `is_home` column)\n",
        "- Arsenal won four out of five matches, and the remaining match ended in a draw. (from the `winner` column)\n",
        "- Arsenal has won with a goal difference of 3 once, 2 once and 1 twice (from the `goal_difference` column)\n"
      ],
      "metadata": {
        "id": "FavOqViZwZ7v"
      }
    },
    {
      "cell_type": "code",
      "source": [
        "def percentage(n: int, total: int) -> float:\n",
        "    return str(round((n/total)*100, 2)) + \"%\"\n",
        "\n",
        "def win_draw_loss(df_row: list) -> list:\n",
        "    #Will take in list of list (Home rows list or Away rows list)\n",
        "    win, draw, loss = (0, 0, 0)\n",
        "    matches = len(df_row)\n",
        "    for row in df_row:\n",
        "      if row[7] == \"Arsenal\":\n",
        "          win += 1\n",
        "      elif row[7] == \"Draw\":\n",
        "          draw += 1\n",
        "      else:\n",
        "          loss += 1\n",
        "    return [matches, percentage(win, matches), percentage(draw, matches), percentage(loss, matches)]"
      ],
      "metadata": {
        "id": "ZtJMBg_Z14I0"
      },
      "execution_count": null,
      "outputs": []
    },
    {
      "cell_type": "markdown",
      "source": [
        "The `percentage()` function converts the numerical values to percentages\n",
        "\n",
        "The `win_draw_loss()` function calculates the number of wins, draws and losses by team \"Arsenal\" and returns it as percentages\n",
        "\n",
        "---"
      ],
      "metadata": {
        "id": "itytKUfRep6N"
      }
    },
    {
      "cell_type": "code",
      "source": [
        "def home_away_stats() -> list:\n",
        "    home_games, away_games = [], []\n",
        "    for row in df_clean.itertuples():\n",
        "        if row[9]:\n",
        "            home_games.append(row)\n",
        "        else:\n",
        "            away_games.append(row)\n",
        "    return [win_draw_loss(home_games), win_draw_loss(away_games)]"
      ],
      "metadata": {
        "id": "FpgKgPCprBXW"
      },
      "execution_count": null,
      "outputs": []
    },
    {
      "cell_type": "markdown",
      "source": [
        "The `home_away_stats()` function aggregates the wins, draws and losses for the home and away games played by team \"Arsenal\"\n",
        "\n",
        "---"
      ],
      "metadata": {
        "id": "3LEJUXCbezht"
      }
    },
    {
      "cell_type": "code",
      "source": [
        "def calculate_gd(df_row: list) -> list:\n",
        "    gd = 0\n",
        "    matches = len(df_row)\n",
        "    for row in df_row:\n",
        "        gd += row[8]\n",
        "    gd = gd/len(df_row)\n",
        "    return [matches, gd]\n",
        "\n",
        "def gd_stats() -> list:\n",
        "    home_games, away_games = [], []\n",
        "    for row in df_clean.itertuples():\n",
        "        if row[9]:\n",
        "            home_games.append(row)\n",
        "        else:\n",
        "            away_games.append(row)\n",
        "    return [calculate_gd(home_games), calculate_gd(away_games)]"
      ],
      "metadata": {
        "id": "AVFpFANog5uw"
      },
      "execution_count": null,
      "outputs": []
    },
    {
      "cell_type": "markdown",
      "source": [
        "The `calculate_gd()` function calculates the goal difference for the given list of matches and returns the average goal difference per match\n",
        "\n",
        "The `gd_stats()` function aggregates the goal difference per match for the home and away games played by team \"Arsenal\"\n",
        "\n",
        "---"
      ],
      "metadata": {
        "id": "pow0QTXFfOjz"
      }
    },
    {
      "cell_type": "code",
      "source": [
        "stats1 = pd.DataFrame(home_away_stats(), columns = [\"matches\", \"win\", \"draw\", \"loss\"], index = [\"Home\", \"Away\"])"
      ],
      "metadata": {
        "id": "Wg77NZtl6puH"
      },
      "execution_count": null,
      "outputs": []
    },
    {
      "cell_type": "markdown",
      "source": [
        "We apply the `home_away_stats()` function and store the output values into a pandas Data Frame so that it is easy to see the values and make observations\n",
        "\n",
        "---"
      ],
      "metadata": {
        "id": "zXsPL4LXfCLY"
      }
    },
    {
      "cell_type": "code",
      "source": [
        "stats2 = pd.DataFrame(gd_stats(), columns = [\"matches\", \"gd_average\"], index = [\"Home\", \"Away\"])"
      ],
      "metadata": {
        "id": "7mb_suR3jDsA"
      },
      "execution_count": null,
      "outputs": []
    },
    {
      "cell_type": "markdown",
      "source": [
        "We apply the `gd_stats()` function and store the output values into a pandas Data Frame so that it is easy to see the values and make observations\n",
        "\n",
        "---"
      ],
      "metadata": {
        "id": "ZEewlWwGfW6R"
      }
    },
    {
      "cell_type": "code",
      "source": [
        "stats1"
      ],
      "metadata": {
        "id": "d29zyW1n6sMg",
        "colab": {
          "base_uri": "https://localhost:8080/",
          "height": 112
        },
        "outputId": "dfb42aad-a921-49b8-e97f-d63d2e06ffe1"
      },
      "execution_count": null,
      "outputs": [
        {
          "output_type": "execute_result",
          "data": {
            "text/plain": [
              "      matches     win    draw  loss\n",
              "Home       17  76.47%  23.53%  0.0%\n",
              "Away       16  68.75%  31.25%  0.0%"
            ],
            "text/html": [
              "\n",
              "  <div id=\"df-d212e683-0871-4dcd-b4c7-a31863ee3fbc\">\n",
              "    <div class=\"colab-df-container\">\n",
              "      <div>\n",
              "<style scoped>\n",
              "    .dataframe tbody tr th:only-of-type {\n",
              "        vertical-align: middle;\n",
              "    }\n",
              "\n",
              "    .dataframe tbody tr th {\n",
              "        vertical-align: top;\n",
              "    }\n",
              "\n",
              "    .dataframe thead th {\n",
              "        text-align: right;\n",
              "    }\n",
              "</style>\n",
              "<table border=\"1\" class=\"dataframe\">\n",
              "  <thead>\n",
              "    <tr style=\"text-align: right;\">\n",
              "      <th></th>\n",
              "      <th>matches</th>\n",
              "      <th>win</th>\n",
              "      <th>draw</th>\n",
              "      <th>loss</th>\n",
              "    </tr>\n",
              "  </thead>\n",
              "  <tbody>\n",
              "    <tr>\n",
              "      <th>Home</th>\n",
              "      <td>17</td>\n",
              "      <td>76.47%</td>\n",
              "      <td>23.53%</td>\n",
              "      <td>0.0%</td>\n",
              "    </tr>\n",
              "    <tr>\n",
              "      <th>Away</th>\n",
              "      <td>16</td>\n",
              "      <td>68.75%</td>\n",
              "      <td>31.25%</td>\n",
              "      <td>0.0%</td>\n",
              "    </tr>\n",
              "  </tbody>\n",
              "</table>\n",
              "</div>\n",
              "      <button class=\"colab-df-convert\" onclick=\"convertToInteractive('df-d212e683-0871-4dcd-b4c7-a31863ee3fbc')\"\n",
              "              title=\"Convert this dataframe to an interactive table.\"\n",
              "              style=\"display:none;\">\n",
              "        \n",
              "  <svg xmlns=\"http://www.w3.org/2000/svg\" height=\"24px\"viewBox=\"0 0 24 24\"\n",
              "       width=\"24px\">\n",
              "    <path d=\"M0 0h24v24H0V0z\" fill=\"none\"/>\n",
              "    <path d=\"M18.56 5.44l.94 2.06.94-2.06 2.06-.94-2.06-.94-.94-2.06-.94 2.06-2.06.94zm-11 1L8.5 8.5l.94-2.06 2.06-.94-2.06-.94L8.5 2.5l-.94 2.06-2.06.94zm10 10l.94 2.06.94-2.06 2.06-.94-2.06-.94-.94-2.06-.94 2.06-2.06.94z\"/><path d=\"M17.41 7.96l-1.37-1.37c-.4-.4-.92-.59-1.43-.59-.52 0-1.04.2-1.43.59L10.3 9.45l-7.72 7.72c-.78.78-.78 2.05 0 2.83L4 21.41c.39.39.9.59 1.41.59.51 0 1.02-.2 1.41-.59l7.78-7.78 2.81-2.81c.8-.78.8-2.07 0-2.86zM5.41 20L4 18.59l7.72-7.72 1.47 1.35L5.41 20z\"/>\n",
              "  </svg>\n",
              "      </button>\n",
              "      \n",
              "  <style>\n",
              "    .colab-df-container {\n",
              "      display:flex;\n",
              "      flex-wrap:wrap;\n",
              "      gap: 12px;\n",
              "    }\n",
              "\n",
              "    .colab-df-convert {\n",
              "      background-color: #E8F0FE;\n",
              "      border: none;\n",
              "      border-radius: 50%;\n",
              "      cursor: pointer;\n",
              "      display: none;\n",
              "      fill: #1967D2;\n",
              "      height: 32px;\n",
              "      padding: 0 0 0 0;\n",
              "      width: 32px;\n",
              "    }\n",
              "\n",
              "    .colab-df-convert:hover {\n",
              "      background-color: #E2EBFA;\n",
              "      box-shadow: 0px 1px 2px rgba(60, 64, 67, 0.3), 0px 1px 3px 1px rgba(60, 64, 67, 0.15);\n",
              "      fill: #174EA6;\n",
              "    }\n",
              "\n",
              "    [theme=dark] .colab-df-convert {\n",
              "      background-color: #3B4455;\n",
              "      fill: #D2E3FC;\n",
              "    }\n",
              "\n",
              "    [theme=dark] .colab-df-convert:hover {\n",
              "      background-color: #434B5C;\n",
              "      box-shadow: 0px 1px 3px 1px rgba(0, 0, 0, 0.15);\n",
              "      filter: drop-shadow(0px 1px 2px rgba(0, 0, 0, 0.3));\n",
              "      fill: #FFFFFF;\n",
              "    }\n",
              "  </style>\n",
              "\n",
              "      <script>\n",
              "        const buttonEl =\n",
              "          document.querySelector('#df-d212e683-0871-4dcd-b4c7-a31863ee3fbc button.colab-df-convert');\n",
              "        buttonEl.style.display =\n",
              "          google.colab.kernel.accessAllowed ? 'block' : 'none';\n",
              "\n",
              "        async function convertToInteractive(key) {\n",
              "          const element = document.querySelector('#df-d212e683-0871-4dcd-b4c7-a31863ee3fbc');\n",
              "          const dataTable =\n",
              "            await google.colab.kernel.invokeFunction('convertToInteractive',\n",
              "                                                     [key], {});\n",
              "          if (!dataTable) return;\n",
              "\n",
              "          const docLinkHtml = 'Like what you see? Visit the ' +\n",
              "            '<a target=\"_blank\" href=https://colab.research.google.com/notebooks/data_table.ipynb>data table notebook</a>'\n",
              "            + ' to learn more about interactive tables.';\n",
              "          element.innerHTML = '';\n",
              "          dataTable['output_type'] = 'display_data';\n",
              "          await google.colab.output.renderOutput(dataTable, element);\n",
              "          const docLink = document.createElement('div');\n",
              "          docLink.innerHTML = docLinkHtml;\n",
              "          element.appendChild(docLink);\n",
              "        }\n",
              "      </script>\n",
              "    </div>\n",
              "  </div>\n",
              "  "
            ]
          },
          "metadata": {},
          "execution_count": 22
        }
      ]
    },
    {
      "cell_type": "code",
      "source": [
        "stats2"
      ],
      "metadata": {
        "colab": {
          "base_uri": "https://localhost:8080/",
          "height": 112
        },
        "id": "M2hS0zuWjfrv",
        "outputId": "927120bc-f5c1-429e-f3de-7caa55531df7"
      },
      "execution_count": null,
      "outputs": [
        {
          "output_type": "execute_result",
          "data": {
            "text/plain": [
              "      matches  gd_average\n",
              "Home       17    1.294118\n",
              "Away       16    1.312500"
            ],
            "text/html": [
              "\n",
              "  <div id=\"df-84feb7b2-bac5-468d-94a3-3616a34a39e3\">\n",
              "    <div class=\"colab-df-container\">\n",
              "      <div>\n",
              "<style scoped>\n",
              "    .dataframe tbody tr th:only-of-type {\n",
              "        vertical-align: middle;\n",
              "    }\n",
              "\n",
              "    .dataframe tbody tr th {\n",
              "        vertical-align: top;\n",
              "    }\n",
              "\n",
              "    .dataframe thead th {\n",
              "        text-align: right;\n",
              "    }\n",
              "</style>\n",
              "<table border=\"1\" class=\"dataframe\">\n",
              "  <thead>\n",
              "    <tr style=\"text-align: right;\">\n",
              "      <th></th>\n",
              "      <th>matches</th>\n",
              "      <th>gd_average</th>\n",
              "    </tr>\n",
              "  </thead>\n",
              "  <tbody>\n",
              "    <tr>\n",
              "      <th>Home</th>\n",
              "      <td>17</td>\n",
              "      <td>1.294118</td>\n",
              "    </tr>\n",
              "    <tr>\n",
              "      <th>Away</th>\n",
              "      <td>16</td>\n",
              "      <td>1.312500</td>\n",
              "    </tr>\n",
              "  </tbody>\n",
              "</table>\n",
              "</div>\n",
              "      <button class=\"colab-df-convert\" onclick=\"convertToInteractive('df-84feb7b2-bac5-468d-94a3-3616a34a39e3')\"\n",
              "              title=\"Convert this dataframe to an interactive table.\"\n",
              "              style=\"display:none;\">\n",
              "        \n",
              "  <svg xmlns=\"http://www.w3.org/2000/svg\" height=\"24px\"viewBox=\"0 0 24 24\"\n",
              "       width=\"24px\">\n",
              "    <path d=\"M0 0h24v24H0V0z\" fill=\"none\"/>\n",
              "    <path d=\"M18.56 5.44l.94 2.06.94-2.06 2.06-.94-2.06-.94-.94-2.06-.94 2.06-2.06.94zm-11 1L8.5 8.5l.94-2.06 2.06-.94-2.06-.94L8.5 2.5l-.94 2.06-2.06.94zm10 10l.94 2.06.94-2.06 2.06-.94-2.06-.94-.94-2.06-.94 2.06-2.06.94z\"/><path d=\"M17.41 7.96l-1.37-1.37c-.4-.4-.92-.59-1.43-.59-.52 0-1.04.2-1.43.59L10.3 9.45l-7.72 7.72c-.78.78-.78 2.05 0 2.83L4 21.41c.39.39.9.59 1.41.59.51 0 1.02-.2 1.41-.59l7.78-7.78 2.81-2.81c.8-.78.8-2.07 0-2.86zM5.41 20L4 18.59l7.72-7.72 1.47 1.35L5.41 20z\"/>\n",
              "  </svg>\n",
              "      </button>\n",
              "      \n",
              "  <style>\n",
              "    .colab-df-container {\n",
              "      display:flex;\n",
              "      flex-wrap:wrap;\n",
              "      gap: 12px;\n",
              "    }\n",
              "\n",
              "    .colab-df-convert {\n",
              "      background-color: #E8F0FE;\n",
              "      border: none;\n",
              "      border-radius: 50%;\n",
              "      cursor: pointer;\n",
              "      display: none;\n",
              "      fill: #1967D2;\n",
              "      height: 32px;\n",
              "      padding: 0 0 0 0;\n",
              "      width: 32px;\n",
              "    }\n",
              "\n",
              "    .colab-df-convert:hover {\n",
              "      background-color: #E2EBFA;\n",
              "      box-shadow: 0px 1px 2px rgba(60, 64, 67, 0.3), 0px 1px 3px 1px rgba(60, 64, 67, 0.15);\n",
              "      fill: #174EA6;\n",
              "    }\n",
              "\n",
              "    [theme=dark] .colab-df-convert {\n",
              "      background-color: #3B4455;\n",
              "      fill: #D2E3FC;\n",
              "    }\n",
              "\n",
              "    [theme=dark] .colab-df-convert:hover {\n",
              "      background-color: #434B5C;\n",
              "      box-shadow: 0px 1px 3px 1px rgba(0, 0, 0, 0.15);\n",
              "      filter: drop-shadow(0px 1px 2px rgba(0, 0, 0, 0.3));\n",
              "      fill: #FFFFFF;\n",
              "    }\n",
              "  </style>\n",
              "\n",
              "      <script>\n",
              "        const buttonEl =\n",
              "          document.querySelector('#df-84feb7b2-bac5-468d-94a3-3616a34a39e3 button.colab-df-convert');\n",
              "        buttonEl.style.display =\n",
              "          google.colab.kernel.accessAllowed ? 'block' : 'none';\n",
              "\n",
              "        async function convertToInteractive(key) {\n",
              "          const element = document.querySelector('#df-84feb7b2-bac5-468d-94a3-3616a34a39e3');\n",
              "          const dataTable =\n",
              "            await google.colab.kernel.invokeFunction('convertToInteractive',\n",
              "                                                     [key], {});\n",
              "          if (!dataTable) return;\n",
              "\n",
              "          const docLinkHtml = 'Like what you see? Visit the ' +\n",
              "            '<a target=\"_blank\" href=https://colab.research.google.com/notebooks/data_table.ipynb>data table notebook</a>'\n",
              "            + ' to learn more about interactive tables.';\n",
              "          element.innerHTML = '';\n",
              "          dataTable['output_type'] = 'display_data';\n",
              "          await google.colab.output.renderOutput(dataTable, element);\n",
              "          const docLink = document.createElement('div');\n",
              "          docLink.innerHTML = docLinkHtml;\n",
              "          element.appendChild(docLink);\n",
              "        }\n",
              "      </script>\n",
              "    </div>\n",
              "  </div>\n",
              "  "
            ]
          },
          "metadata": {},
          "execution_count": 32
        }
      ]
    },
    {
      "cell_type": "markdown",
      "source": [
        "1. We can see that the win percentage is *7.72%* higher in Home games as compared to Away games\n",
        "2. The goal difference in Away games is *0.0184* higher (only slightly) than in Home games.\n",
        "\n",
        "> Overall - Team \"Arsenal\" has performed better at Home than Away.\n",
        "\n",
        "---"
      ],
      "metadata": {
        "id": "RLarZXiFfYfo"
      }
    }
  ],
  "metadata": {
    "kernelspec": {
      "display_name": "Python 3",
      "language": "python",
      "name": "python3"
    },
    "language_info": {
      "codemirror_mode": {
        "name": "ipython",
        "version": 3
      },
      "file_extension": ".py",
      "mimetype": "text/x-python",
      "name": "python",
      "nbconvert_exporter": "python",
      "pygments_lexer": "ipython3",
      "version": "3.7.6"
    },
    "colab": {
      "provenance": [],
      "include_colab_link": true
    }
  },
  "nbformat": 4,
  "nbformat_minor": 0
}